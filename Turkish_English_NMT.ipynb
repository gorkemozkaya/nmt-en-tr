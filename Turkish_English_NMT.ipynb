{
  "nbformat": 4,
  "nbformat_minor": 0,
  "metadata": {
    "colab": {
      "name": "Turkish/English NMT",
      "provenance": [],
      "include_colab_link": true
    },
    "kernelspec": {
      "name": "python3",
      "display_name": "Python 3"
    }
  },
  "cells": [
    {
      "cell_type": "markdown",
      "metadata": {
        "id": "view-in-github",
        "colab_type": "text"
      },
      "source": [
        "<a href=\"https://colab.research.google.com/github/gorkemozkaya/nmt-en-tr/blob/master/Turkish_English_NMT.ipynb\" target=\"_parent\"><img src=\"https://colab.research.google.com/assets/colab-badge.svg\" alt=\"Open In Colab\"/></a>"
      ]
    },
    {
      "cell_type": "markdown",
      "metadata": {
        "id": "RPNUeDW-r6Pc"
      },
      "source": [
        "# Running the pre-trained NMT models in Python\n",
        "\n",
        "This notebook illustrates how one can load the pre-trained models and run it on new Turkish or English sentences for translation. It is mostly based on [this](https://colab.research.google.com/github/tensorflow/tensor2tensor/blob/master/tensor2tensor/notebooks/hello_t2t.ipynb) tensor2tensor notebook from the official [tensor2tensor](https://github.com/tensorflow/tensor2tensor) repository. "
      ]
    },
    {
      "cell_type": "code",
      "source": [
        "%tensorflow_version 1.x"
      ],
      "metadata": {
        "id": "3r9n6LxTBqtF",
        "outputId": "627b283f-a12a-459a-b304-cfcc04034d40",
        "colab": {
          "base_uri": "https://localhost:8080/"
        }
      },
      "execution_count": 1,
      "outputs": [
        {
          "output_type": "stream",
          "name": "stdout",
          "text": [
            "TensorFlow 1.x selected.\n"
          ]
        }
      ]
    },
    {
      "cell_type": "code",
      "metadata": {
        "id": "LgDcx0z3-gVt",
        "colab": {
          "base_uri": "https://localhost:8080/"
        },
        "outputId": "dc420251-954a-4498-b94c-3291fb72cdfd"
      },
      "source": [
        "!pip install --quiet tensorflow==1.14 tensor2tensor==1.13.4 tensorflow_datasets==3.2.1"
      ],
      "execution_count": 4,
      "outputs": [
        {
          "output_type": "stream",
          "name": "stdout",
          "text": [
            "\u001b[?25l\r\u001b[K     |                                | 10 kB 22.3 MB/s eta 0:00:01\r\u001b[K     |▏                               | 20 kB 25.2 MB/s eta 0:00:01\r\u001b[K     |▎                               | 30 kB 12.5 MB/s eta 0:00:01\r\u001b[K     |▍                               | 40 kB 4.9 MB/s eta 0:00:01\r\u001b[K     |▌                               | 51 kB 4.7 MB/s eta 0:00:01\r\u001b[K     |▋                               | 61 kB 5.5 MB/s eta 0:00:01\r\u001b[K     |▊                               | 71 kB 5.5 MB/s eta 0:00:01\r\u001b[K     |▊                               | 81 kB 5.6 MB/s eta 0:00:01\r\u001b[K     |▉                               | 92 kB 6.1 MB/s eta 0:00:01\r\u001b[K     |█                               | 102 kB 5.3 MB/s eta 0:00:01\r\u001b[K     |█                               | 112 kB 5.3 MB/s eta 0:00:01\r\u001b[K     |█▏                              | 122 kB 5.3 MB/s eta 0:00:01\r\u001b[K     |█▎                              | 133 kB 5.3 MB/s eta 0:00:01\r\u001b[K     |█▍                              | 143 kB 5.3 MB/s eta 0:00:01\r\u001b[K     |█▍                              | 153 kB 5.3 MB/s eta 0:00:01\r\u001b[K     |█▌                              | 163 kB 5.3 MB/s eta 0:00:01\r\u001b[K     |█▋                              | 174 kB 5.3 MB/s eta 0:00:01\r\u001b[K     |█▊                              | 184 kB 5.3 MB/s eta 0:00:01\r\u001b[K     |█▉                              | 194 kB 5.3 MB/s eta 0:00:01\r\u001b[K     |██                              | 204 kB 5.3 MB/s eta 0:00:01\r\u001b[K     |██                              | 215 kB 5.3 MB/s eta 0:00:01\r\u001b[K     |██▏                             | 225 kB 5.3 MB/s eta 0:00:01\r\u001b[K     |██▏                             | 235 kB 5.3 MB/s eta 0:00:01\r\u001b[K     |██▎                             | 245 kB 5.3 MB/s eta 0:00:01\r\u001b[K     |██▍                             | 256 kB 5.3 MB/s eta 0:00:01\r\u001b[K     |██▌                             | 266 kB 5.3 MB/s eta 0:00:01\r\u001b[K     |██▋                             | 276 kB 5.3 MB/s eta 0:00:01\r\u001b[K     |██▊                             | 286 kB 5.3 MB/s eta 0:00:01\r\u001b[K     |██▉                             | 296 kB 5.3 MB/s eta 0:00:01\r\u001b[K     |██▉                             | 307 kB 5.3 MB/s eta 0:00:01\r\u001b[K     |███                             | 317 kB 5.3 MB/s eta 0:00:01\r\u001b[K     |███                             | 327 kB 5.3 MB/s eta 0:00:01\r\u001b[K     |███▏                            | 337 kB 5.3 MB/s eta 0:00:01\r\u001b[K     |███▎                            | 348 kB 5.3 MB/s eta 0:00:01\r\u001b[K     |███▍                            | 358 kB 5.3 MB/s eta 0:00:01\r\u001b[K     |███▌                            | 368 kB 5.3 MB/s eta 0:00:01\r\u001b[K     |███▌                            | 378 kB 5.3 MB/s eta 0:00:01\r\u001b[K     |███▋                            | 389 kB 5.3 MB/s eta 0:00:01\r\u001b[K     |███▊                            | 399 kB 5.3 MB/s eta 0:00:01\r\u001b[K     |███▉                            | 409 kB 5.3 MB/s eta 0:00:01\r\u001b[K     |████                            | 419 kB 5.3 MB/s eta 0:00:01\r\u001b[K     |████                            | 430 kB 5.3 MB/s eta 0:00:01\r\u001b[K     |████▏                           | 440 kB 5.3 MB/s eta 0:00:01\r\u001b[K     |████▎                           | 450 kB 5.3 MB/s eta 0:00:01\r\u001b[K     |████▎                           | 460 kB 5.3 MB/s eta 0:00:01\r\u001b[K     |████▍                           | 471 kB 5.3 MB/s eta 0:00:01\r\u001b[K     |████▌                           | 481 kB 5.3 MB/s eta 0:00:01\r\u001b[K     |████▋                           | 491 kB 5.3 MB/s eta 0:00:01\r\u001b[K     |████▊                           | 501 kB 5.3 MB/s eta 0:00:01\r\u001b[K     |████▉                           | 512 kB 5.3 MB/s eta 0:00:01\r\u001b[K     |█████                           | 522 kB 5.3 MB/s eta 0:00:01\r\u001b[K     |█████                           | 532 kB 5.3 MB/s eta 0:00:01\r\u001b[K     |█████                           | 542 kB 5.3 MB/s eta 0:00:01\r\u001b[K     |█████▏                          | 552 kB 5.3 MB/s eta 0:00:01\r\u001b[K     |█████▎                          | 563 kB 5.3 MB/s eta 0:00:01\r\u001b[K     |█████▍                          | 573 kB 5.3 MB/s eta 0:00:01\r\u001b[K     |█████▌                          | 583 kB 5.3 MB/s eta 0:00:01\r\u001b[K     |█████▋                          | 593 kB 5.3 MB/s eta 0:00:01\r\u001b[K     |█████▋                          | 604 kB 5.3 MB/s eta 0:00:01\r\u001b[K     |█████▊                          | 614 kB 5.3 MB/s eta 0:00:01\r\u001b[K     |█████▉                          | 624 kB 5.3 MB/s eta 0:00:01\r\u001b[K     |██████                          | 634 kB 5.3 MB/s eta 0:00:01\r\u001b[K     |██████                          | 645 kB 5.3 MB/s eta 0:00:01\r\u001b[K     |██████▏                         | 655 kB 5.3 MB/s eta 0:00:01\r\u001b[K     |██████▎                         | 665 kB 5.3 MB/s eta 0:00:01\r\u001b[K     |██████▍                         | 675 kB 5.3 MB/s eta 0:00:01\r\u001b[K     |██████▍                         | 686 kB 5.3 MB/s eta 0:00:01\r\u001b[K     |██████▌                         | 696 kB 5.3 MB/s eta 0:00:01\r\u001b[K     |██████▋                         | 706 kB 5.3 MB/s eta 0:00:01\r\u001b[K     |██████▊                         | 716 kB 5.3 MB/s eta 0:00:01\r\u001b[K     |██████▉                         | 727 kB 5.3 MB/s eta 0:00:01\r\u001b[K     |███████                         | 737 kB 5.3 MB/s eta 0:00:01\r\u001b[K     |███████                         | 747 kB 5.3 MB/s eta 0:00:01\r\u001b[K     |███████                         | 757 kB 5.3 MB/s eta 0:00:01\r\u001b[K     |███████▏                        | 768 kB 5.3 MB/s eta 0:00:01\r\u001b[K     |███████▎                        | 778 kB 5.3 MB/s eta 0:00:01\r\u001b[K     |███████▍                        | 788 kB 5.3 MB/s eta 0:00:01\r\u001b[K     |███████▌                        | 798 kB 5.3 MB/s eta 0:00:01\r\u001b[K     |███████▋                        | 808 kB 5.3 MB/s eta 0:00:01\r\u001b[K     |███████▊                        | 819 kB 5.3 MB/s eta 0:00:01\r\u001b[K     |███████▊                        | 829 kB 5.3 MB/s eta 0:00:01\r\u001b[K     |███████▉                        | 839 kB 5.3 MB/s eta 0:00:01\r\u001b[K     |████████                        | 849 kB 5.3 MB/s eta 0:00:01\r\u001b[K     |████████                        | 860 kB 5.3 MB/s eta 0:00:01\r\u001b[K     |████████▏                       | 870 kB 5.3 MB/s eta 0:00:01\r\u001b[K     |████████▎                       | 880 kB 5.3 MB/s eta 0:00:01\r\u001b[K     |████████▍                       | 890 kB 5.3 MB/s eta 0:00:01\r\u001b[K     |████████▌                       | 901 kB 5.3 MB/s eta 0:00:01\r\u001b[K     |████████▌                       | 911 kB 5.3 MB/s eta 0:00:01\r\u001b[K     |████████▋                       | 921 kB 5.3 MB/s eta 0:00:01\r\u001b[K     |████████▊                       | 931 kB 5.3 MB/s eta 0:00:01\r\u001b[K     |████████▉                       | 942 kB 5.3 MB/s eta 0:00:01\r\u001b[K     |█████████                       | 952 kB 5.3 MB/s eta 0:00:01\r\u001b[K     |█████████                       | 962 kB 5.3 MB/s eta 0:00:01\r\u001b[K     |█████████▏                      | 972 kB 5.3 MB/s eta 0:00:01\r\u001b[K     |█████████▏                      | 983 kB 5.3 MB/s eta 0:00:01\r\u001b[K     |█████████▎                      | 993 kB 5.3 MB/s eta 0:00:01\r\u001b[K     |█████████▍                      | 1.0 MB 5.3 MB/s eta 0:00:01\r\u001b[K     |█████████▌                      | 1.0 MB 5.3 MB/s eta 0:00:01\r\u001b[K     |█████████▋                      | 1.0 MB 5.3 MB/s eta 0:00:01\r\u001b[K     |█████████▊                      | 1.0 MB 5.3 MB/s eta 0:00:01\r\u001b[K     |█████████▉                      | 1.0 MB 5.3 MB/s eta 0:00:01\r\u001b[K     |█████████▉                      | 1.1 MB 5.3 MB/s eta 0:00:01\r\u001b[K     |██████████                      | 1.1 MB 5.3 MB/s eta 0:00:01\r\u001b[K     |██████████                      | 1.1 MB 5.3 MB/s eta 0:00:01\r\u001b[K     |██████████▏                     | 1.1 MB 5.3 MB/s eta 0:00:01\r\u001b[K     |██████████▎                     | 1.1 MB 5.3 MB/s eta 0:00:01\r\u001b[K     |██████████▍                     | 1.1 MB 5.3 MB/s eta 0:00:01\r\u001b[K     |██████████▌                     | 1.1 MB 5.3 MB/s eta 0:00:01\r\u001b[K     |██████████▋                     | 1.1 MB 5.3 MB/s eta 0:00:01\r\u001b[K     |██████████▋                     | 1.1 MB 5.3 MB/s eta 0:00:01\r\u001b[K     |██████████▊                     | 1.1 MB 5.3 MB/s eta 0:00:01\r\u001b[K     |██████████▉                     | 1.2 MB 5.3 MB/s eta 0:00:01\r\u001b[K     |███████████                     | 1.2 MB 5.3 MB/s eta 0:00:01\r\u001b[K     |███████████                     | 1.2 MB 5.3 MB/s eta 0:00:01\r\u001b[K     |███████████▏                    | 1.2 MB 5.3 MB/s eta 0:00:01\r\u001b[K     |███████████▎                    | 1.2 MB 5.3 MB/s eta 0:00:01\r\u001b[K     |███████████▎                    | 1.2 MB 5.3 MB/s eta 0:00:01\r\u001b[K     |███████████▍                    | 1.2 MB 5.3 MB/s eta 0:00:01\r\u001b[K     |███████████▌                    | 1.2 MB 5.3 MB/s eta 0:00:01\r\u001b[K     |███████████▋                    | 1.2 MB 5.3 MB/s eta 0:00:01\r\u001b[K     |███████████▊                    | 1.2 MB 5.3 MB/s eta 0:00:01\r\u001b[K     |███████████▉                    | 1.3 MB 5.3 MB/s eta 0:00:01\r\u001b[K     |████████████                    | 1.3 MB 5.3 MB/s eta 0:00:01\r\u001b[K     |████████████                    | 1.3 MB 5.3 MB/s eta 0:00:01\r\u001b[K     |████████████                    | 1.3 MB 5.3 MB/s eta 0:00:01\r\u001b[K     |████████████▏                   | 1.3 MB 5.3 MB/s eta 0:00:01\r\u001b[K     |████████████▎                   | 1.3 MB 5.3 MB/s eta 0:00:01\r\u001b[K     |████████████▍                   | 1.3 MB 5.3 MB/s eta 0:00:01\r\u001b[K     |████████████▌                   | 1.3 MB 5.3 MB/s eta 0:00:01\r\u001b[K     |████████████▋                   | 1.3 MB 5.3 MB/s eta 0:00:01\r\u001b[K     |████████████▊                   | 1.4 MB 5.3 MB/s eta 0:00:01\r\u001b[K     |████████████▊                   | 1.4 MB 5.3 MB/s eta 0:00:01\r\u001b[K     |████████████▉                   | 1.4 MB 5.3 MB/s eta 0:00:01\r\u001b[K     |█████████████                   | 1.4 MB 5.3 MB/s eta 0:00:01\r\u001b[K     |█████████████                   | 1.4 MB 5.3 MB/s eta 0:00:01\r\u001b[K     |█████████████▏                  | 1.4 MB 5.3 MB/s eta 0:00:01\r\u001b[K     |█████████████▎                  | 1.4 MB 5.3 MB/s eta 0:00:01\r\u001b[K     |█████████████▍                  | 1.4 MB 5.3 MB/s eta 0:00:01\r\u001b[K     |█████████████▍                  | 1.4 MB 5.3 MB/s eta 0:00:01\r\u001b[K     |█████████████▌                  | 1.4 MB 5.3 MB/s eta 0:00:01\r\u001b[K     |█████████████▋                  | 1.5 MB 5.3 MB/s eta 0:00:01\r\u001b[K     |█████████████▊                  | 1.5 MB 5.3 MB/s eta 0:00:01\r\u001b[K     |█████████████▉                  | 1.5 MB 5.3 MB/s eta 0:00:01\r\u001b[K     |██████████████                  | 1.5 MB 5.3 MB/s eta 0:00:01\r\u001b[K     |██████████████                  | 1.5 MB 5.3 MB/s eta 0:00:01\r\u001b[K     |██████████████                  | 1.5 MB 5.3 MB/s eta 0:00:01\r\u001b[K     |██████████████▏                 | 1.5 MB 5.3 MB/s eta 0:00:01\r\u001b[K     |██████████████▎                 | 1.5 MB 5.3 MB/s eta 0:00:01\r\u001b[K     |██████████████▍                 | 1.5 MB 5.3 MB/s eta 0:00:01\r\u001b[K     |██████████████▌                 | 1.5 MB 5.3 MB/s eta 0:00:01\r\u001b[K     |██████████████▋                 | 1.6 MB 5.3 MB/s eta 0:00:01\r\u001b[K     |██████████████▊                 | 1.6 MB 5.3 MB/s eta 0:00:01\r\u001b[K     |██████████████▉                 | 1.6 MB 5.3 MB/s eta 0:00:01\r\u001b[K     |██████████████▉                 | 1.6 MB 5.3 MB/s eta 0:00:01\r\u001b[K     |███████████████                 | 1.6 MB 5.3 MB/s eta 0:00:01\r\u001b[K     |███████████████                 | 1.6 MB 5.3 MB/s eta 0:00:01\r\u001b[K     |███████████████▏                | 1.6 MB 5.3 MB/s eta 0:00:01\r\u001b[K     |███████████████▎                | 1.6 MB 5.3 MB/s eta 0:00:01\r\u001b[K     |███████████████▍                | 1.6 MB 5.3 MB/s eta 0:00:01\r\u001b[K     |███████████████▌                | 1.6 MB 5.3 MB/s eta 0:00:01\r\u001b[K     |███████████████▌                | 1.7 MB 5.3 MB/s eta 0:00:01\r\u001b[K     |███████████████▋                | 1.7 MB 5.3 MB/s eta 0:00:01\r\u001b[K     |███████████████▊                | 1.7 MB 5.3 MB/s eta 0:00:01\r\u001b[K     |███████████████▉                | 1.7 MB 5.3 MB/s eta 0:00:01\r\u001b[K     |████████████████                | 1.7 MB 5.3 MB/s eta 0:00:01\r\u001b[K     |████████████████                | 1.7 MB 5.3 MB/s eta 0:00:01\r\u001b[K     |████████████████▏               | 1.7 MB 5.3 MB/s eta 0:00:01\r\u001b[K     |████████████████▏               | 1.7 MB 5.3 MB/s eta 0:00:01\r\u001b[K     |████████████████▎               | 1.7 MB 5.3 MB/s eta 0:00:01\r\u001b[K     |████████████████▍               | 1.8 MB 5.3 MB/s eta 0:00:01\r\u001b[K     |████████████████▌               | 1.8 MB 5.3 MB/s eta 0:00:01\r\u001b[K     |████████████████▋               | 1.8 MB 5.3 MB/s eta 0:00:01\r\u001b[K     |████████████████▊               | 1.8 MB 5.3 MB/s eta 0:00:01\r\u001b[K     |████████████████▉               | 1.8 MB 5.3 MB/s eta 0:00:01\r\u001b[K     |█████████████████               | 1.8 MB 5.3 MB/s eta 0:00:01\r\u001b[K     |█████████████████               | 1.8 MB 5.3 MB/s eta 0:00:01\r\u001b[K     |█████████████████               | 1.8 MB 5.3 MB/s eta 0:00:01\r\u001b[K     |█████████████████▏              | 1.8 MB 5.3 MB/s eta 0:00:01\r\u001b[K     |█████████████████▎              | 1.8 MB 5.3 MB/s eta 0:00:01\r\u001b[K     |█████████████████▍              | 1.9 MB 5.3 MB/s eta 0:00:01\r\u001b[K     |█████████████████▌              | 1.9 MB 5.3 MB/s eta 0:00:01\r\u001b[K     |█████████████████▋              | 1.9 MB 5.3 MB/s eta 0:00:01\r\u001b[K     |█████████████████▋              | 1.9 MB 5.3 MB/s eta 0:00:01\r\u001b[K     |█████████████████▊              | 1.9 MB 5.3 MB/s eta 0:00:01\r\u001b[K     |█████████████████▉              | 1.9 MB 5.3 MB/s eta 0:00:01\r\u001b[K     |██████████████████              | 1.9 MB 5.3 MB/s eta 0:00:01\r\u001b[K     |██████████████████              | 1.9 MB 5.3 MB/s eta 0:00:01\r\u001b[K     |██████████████████▏             | 1.9 MB 5.3 MB/s eta 0:00:01\r\u001b[K     |██████████████████▎             | 1.9 MB 5.3 MB/s eta 0:00:01\r\u001b[K     |██████████████████▎             | 2.0 MB 5.3 MB/s eta 0:00:01\r\u001b[K     |██████████████████▍             | 2.0 MB 5.3 MB/s eta 0:00:01\r\u001b[K     |██████████████████▌             | 2.0 MB 5.3 MB/s eta 0:00:01\r\u001b[K     |██████████████████▋             | 2.0 MB 5.3 MB/s eta 0:00:01\r\u001b[K     |██████████████████▊             | 2.0 MB 5.3 MB/s eta 0:00:01\r\u001b[K     |██████████████████▉             | 2.0 MB 5.3 MB/s eta 0:00:01\r\u001b[K     |███████████████████             | 2.0 MB 5.3 MB/s eta 0:00:01\r\u001b[K     |███████████████████             | 2.0 MB 5.3 MB/s eta 0:00:01\r\u001b[K     |███████████████████             | 2.0 MB 5.3 MB/s eta 0:00:01\r\u001b[K     |███████████████████▏            | 2.0 MB 5.3 MB/s eta 0:00:01\r\u001b[K     |███████████████████▎            | 2.1 MB 5.3 MB/s eta 0:00:01\r\u001b[K     |███████████████████▍            | 2.1 MB 5.3 MB/s eta 0:00:01\r\u001b[K     |███████████████████▌            | 2.1 MB 5.3 MB/s eta 0:00:01\r\u001b[K     |███████████████████▋            | 2.1 MB 5.3 MB/s eta 0:00:01\r\u001b[K     |███████████████████▊            | 2.1 MB 5.3 MB/s eta 0:00:01\r\u001b[K     |███████████████████▊            | 2.1 MB 5.3 MB/s eta 0:00:01\r\u001b[K     |███████████████████▉            | 2.1 MB 5.3 MB/s eta 0:00:01\r\u001b[K     |████████████████████            | 2.1 MB 5.3 MB/s eta 0:00:01\r\u001b[K     |████████████████████            | 2.1 MB 5.3 MB/s eta 0:00:01\r\u001b[K     |████████████████████▏           | 2.2 MB 5.3 MB/s eta 0:00:01\r\u001b[K     |████████████████████▎           | 2.2 MB 5.3 MB/s eta 0:00:01\r\u001b[K     |████████████████████▍           | 2.2 MB 5.3 MB/s eta 0:00:01\r\u001b[K     |████████████████████▍           | 2.2 MB 5.3 MB/s eta 0:00:01\r\u001b[K     |████████████████████▌           | 2.2 MB 5.3 MB/s eta 0:00:01\r\u001b[K     |████████████████████▋           | 2.2 MB 5.3 MB/s eta 0:00:01\r\u001b[K     |████████████████████▊           | 2.2 MB 5.3 MB/s eta 0:00:01\r\u001b[K     |████████████████████▉           | 2.2 MB 5.3 MB/s eta 0:00:01\r\u001b[K     |█████████████████████           | 2.2 MB 5.3 MB/s eta 0:00:01\r\u001b[K     |█████████████████████           | 2.2 MB 5.3 MB/s eta 0:00:01\r\u001b[K     |█████████████████████▏          | 2.3 MB 5.3 MB/s eta 0:00:01\r\u001b[K     |█████████████████████▏          | 2.3 MB 5.3 MB/s eta 0:00:01\r\u001b[K     |█████████████████████▎          | 2.3 MB 5.3 MB/s eta 0:00:01\r\u001b[K     |█████████████████████▍          | 2.3 MB 5.3 MB/s eta 0:00:01\r\u001b[K     |█████████████████████▌          | 2.3 MB 5.3 MB/s eta 0:00:01\r\u001b[K     |█████████████████████▋          | 2.3 MB 5.3 MB/s eta 0:00:01\r\u001b[K     |█████████████████████▊          | 2.3 MB 5.3 MB/s eta 0:00:01\r\u001b[K     |█████████████████████▉          | 2.3 MB 5.3 MB/s eta 0:00:01\r\u001b[K     |█████████████████████▉          | 2.3 MB 5.3 MB/s eta 0:00:01\r\u001b[K     |██████████████████████          | 2.3 MB 5.3 MB/s eta 0:00:01\r\u001b[K     |██████████████████████          | 2.4 MB 5.3 MB/s eta 0:00:01\r\u001b[K     |██████████████████████▏         | 2.4 MB 5.3 MB/s eta 0:00:01\r\u001b[K     |██████████████████████▎         | 2.4 MB 5.3 MB/s eta 0:00:01\r\u001b[K     |██████████████████████▍         | 2.4 MB 5.3 MB/s eta 0:00:01\r\u001b[K     |██████████████████████▌         | 2.4 MB 5.3 MB/s eta 0:00:01\r\u001b[K     |██████████████████████▌         | 2.4 MB 5.3 MB/s eta 0:00:01\r\u001b[K     |██████████████████████▋         | 2.4 MB 5.3 MB/s eta 0:00:01\r\u001b[K     |██████████████████████▊         | 2.4 MB 5.3 MB/s eta 0:00:01\r\u001b[K     |██████████████████████▉         | 2.4 MB 5.3 MB/s eta 0:00:01\r\u001b[K     |███████████████████████         | 2.4 MB 5.3 MB/s eta 0:00:01\r\u001b[K     |███████████████████████         | 2.5 MB 5.3 MB/s eta 0:00:01\r\u001b[K     |███████████████████████▏        | 2.5 MB 5.3 MB/s eta 0:00:01\r\u001b[K     |███████████████████████▎        | 2.5 MB 5.3 MB/s eta 0:00:01\r\u001b[K     |███████████████████████▎        | 2.5 MB 5.3 MB/s eta 0:00:01\r\u001b[K     |███████████████████████▍        | 2.5 MB 5.3 MB/s eta 0:00:01\r\u001b[K     |███████████████████████▌        | 2.5 MB 5.3 MB/s eta 0:00:01\r\u001b[K     |███████████████████████▋        | 2.5 MB 5.3 MB/s eta 0:00:01\r\u001b[K     |███████████████████████▊        | 2.5 MB 5.3 MB/s eta 0:00:01\r\u001b[K     |███████████████████████▉        | 2.5 MB 5.3 MB/s eta 0:00:01\r\u001b[K     |████████████████████████        | 2.5 MB 5.3 MB/s eta 0:00:01\r\u001b[K     |████████████████████████        | 2.6 MB 5.3 MB/s eta 0:00:01\r\u001b[K     |████████████████████████        | 2.6 MB 5.3 MB/s eta 0:00:01\r\u001b[K     |████████████████████████▏       | 2.6 MB 5.3 MB/s eta 0:00:01\r\u001b[K     |████████████████████████▎       | 2.6 MB 5.3 MB/s eta 0:00:01\r\u001b[K     |████████████████████████▍       | 2.6 MB 5.3 MB/s eta 0:00:01\r\u001b[K     |████████████████████████▌       | 2.6 MB 5.3 MB/s eta 0:00:01\r\u001b[K     |████████████████████████▋       | 2.6 MB 5.3 MB/s eta 0:00:01\r\u001b[K     |████████████████████████▋       | 2.6 MB 5.3 MB/s eta 0:00:01\r\u001b[K     |████████████████████████▊       | 2.6 MB 5.3 MB/s eta 0:00:01\r\u001b[K     |████████████████████████▉       | 2.7 MB 5.3 MB/s eta 0:00:01\r\u001b[K     |█████████████████████████       | 2.7 MB 5.3 MB/s eta 0:00:01\r\u001b[K     |█████████████████████████       | 2.7 MB 5.3 MB/s eta 0:00:01\r\u001b[K     |█████████████████████████▏      | 2.7 MB 5.3 MB/s eta 0:00:01\r\u001b[K     |█████████████████████████▎      | 2.7 MB 5.3 MB/s eta 0:00:01\r\u001b[K     |█████████████████████████▍      | 2.7 MB 5.3 MB/s eta 0:00:01\r\u001b[K     |█████████████████████████▍      | 2.7 MB 5.3 MB/s eta 0:00:01\r\u001b[K     |█████████████████████████▌      | 2.7 MB 5.3 MB/s eta 0:00:01\r\u001b[K     |█████████████████████████▋      | 2.7 MB 5.3 MB/s eta 0:00:01\r\u001b[K     |█████████████████████████▊      | 2.7 MB 5.3 MB/s eta 0:00:01\r\u001b[K     |█████████████████████████▉      | 2.8 MB 5.3 MB/s eta 0:00:01\r\u001b[K     |██████████████████████████      | 2.8 MB 5.3 MB/s eta 0:00:01\r\u001b[K     |██████████████████████████      | 2.8 MB 5.3 MB/s eta 0:00:01\r\u001b[K     |██████████████████████████      | 2.8 MB 5.3 MB/s eta 0:00:01\r\u001b[K     |██████████████████████████▏     | 2.8 MB 5.3 MB/s eta 0:00:01\r\u001b[K     |██████████████████████████▎     | 2.8 MB 5.3 MB/s eta 0:00:01\r\u001b[K     |██████████████████████████▍     | 2.8 MB 5.3 MB/s eta 0:00:01\r\u001b[K     |██████████████████████████▌     | 2.8 MB 5.3 MB/s eta 0:00:01\r\u001b[K     |██████████████████████████▋     | 2.8 MB 5.3 MB/s eta 0:00:01\r\u001b[K     |██████████████████████████▊     | 2.8 MB 5.3 MB/s eta 0:00:01\r\u001b[K     |██████████████████████████▊     | 2.9 MB 5.3 MB/s eta 0:00:01\r\u001b[K     |██████████████████████████▉     | 2.9 MB 5.3 MB/s eta 0:00:01\r\u001b[K     |███████████████████████████     | 2.9 MB 5.3 MB/s eta 0:00:01\r\u001b[K     |███████████████████████████     | 2.9 MB 5.3 MB/s eta 0:00:01\r\u001b[K     |███████████████████████████▏    | 2.9 MB 5.3 MB/s eta 0:00:01\r\u001b[K     |███████████████████████████▎    | 2.9 MB 5.3 MB/s eta 0:00:01\r\u001b[K     |███████████████████████████▍    | 2.9 MB 5.3 MB/s eta 0:00:01\r\u001b[K     |███████████████████████████▌    | 2.9 MB 5.3 MB/s eta 0:00:01\r\u001b[K     |███████████████████████████▌    | 2.9 MB 5.3 MB/s eta 0:00:01\r\u001b[K     |███████████████████████████▋    | 2.9 MB 5.3 MB/s eta 0:00:01\r\u001b[K     |███████████████████████████▊    | 3.0 MB 5.3 MB/s eta 0:00:01\r\u001b[K     |███████████████████████████▉    | 3.0 MB 5.3 MB/s eta 0:00:01\r\u001b[K     |████████████████████████████    | 3.0 MB 5.3 MB/s eta 0:00:01\r\u001b[K     |████████████████████████████    | 3.0 MB 5.3 MB/s eta 0:00:01\r\u001b[K     |████████████████████████████▏   | 3.0 MB 5.3 MB/s eta 0:00:01\r\u001b[K     |████████████████████████████▏   | 3.0 MB 5.3 MB/s eta 0:00:01\r\u001b[K     |████████████████████████████▎   | 3.0 MB 5.3 MB/s eta 0:00:01\r\u001b[K     |████████████████████████████▍   | 3.0 MB 5.3 MB/s eta 0:00:01\r\u001b[K     |████████████████████████████▌   | 3.0 MB 5.3 MB/s eta 0:00:01\r\u001b[K     |████████████████████████████▋   | 3.1 MB 5.3 MB/s eta 0:00:01\r\u001b[K     |████████████████████████████▊   | 3.1 MB 5.3 MB/s eta 0:00:01\r\u001b[K     |████████████████████████████▉   | 3.1 MB 5.3 MB/s eta 0:00:01\r\u001b[K     |████████████████████████████▉   | 3.1 MB 5.3 MB/s eta 0:00:01\r\u001b[K     |█████████████████████████████   | 3.1 MB 5.3 MB/s eta 0:00:01\r\u001b[K     |█████████████████████████████   | 3.1 MB 5.3 MB/s eta 0:00:01\r\u001b[K     |█████████████████████████████▏  | 3.1 MB 5.3 MB/s eta 0:00:01\r\u001b[K     |█████████████████████████████▎  | 3.1 MB 5.3 MB/s eta 0:00:01\r\u001b[K     |█████████████████████████████▍  | 3.1 MB 5.3 MB/s eta 0:00:01\r\u001b[K     |█████████████████████████████▌  | 3.1 MB 5.3 MB/s eta 0:00:01\r\u001b[K     |█████████████████████████████▋  | 3.2 MB 5.3 MB/s eta 0:00:01\r\u001b[K     |█████████████████████████████▋  | 3.2 MB 5.3 MB/s eta 0:00:01\r\u001b[K     |█████████████████████████████▊  | 3.2 MB 5.3 MB/s eta 0:00:01\r\u001b[K     |█████████████████████████████▉  | 3.2 MB 5.3 MB/s eta 0:00:01\r\u001b[K     |██████████████████████████████  | 3.2 MB 5.3 MB/s eta 0:00:01\r\u001b[K     |██████████████████████████████  | 3.2 MB 5.3 MB/s eta 0:00:01\r\u001b[K     |██████████████████████████████▏ | 3.2 MB 5.3 MB/s eta 0:00:01\r\u001b[K     |██████████████████████████████▎ | 3.2 MB 5.3 MB/s eta 0:00:01\r\u001b[K     |██████████████████████████████▎ | 3.2 MB 5.3 MB/s eta 0:00:01\r\u001b[K     |██████████████████████████████▍ | 3.2 MB 5.3 MB/s eta 0:00:01\r\u001b[K     |██████████████████████████████▌ | 3.3 MB 5.3 MB/s eta 0:00:01\r\u001b[K     |██████████████████████████████▋ | 3.3 MB 5.3 MB/s eta 0:00:01\r\u001b[K     |██████████████████████████████▊ | 3.3 MB 5.3 MB/s eta 0:00:01\r\u001b[K     |██████████████████████████████▉ | 3.3 MB 5.3 MB/s eta 0:00:01\r\u001b[K     |███████████████████████████████ | 3.3 MB 5.3 MB/s eta 0:00:01\r\u001b[K     |███████████████████████████████ | 3.3 MB 5.3 MB/s eta 0:00:01\r\u001b[K     |███████████████████████████████ | 3.3 MB 5.3 MB/s eta 0:00:01\r\u001b[K     |███████████████████████████████▏| 3.3 MB 5.3 MB/s eta 0:00:01\r\u001b[K     |███████████████████████████████▎| 3.3 MB 5.3 MB/s eta 0:00:01\r\u001b[K     |███████████████████████████████▍| 3.3 MB 5.3 MB/s eta 0:00:01\r\u001b[K     |███████████████████████████████▌| 3.4 MB 5.3 MB/s eta 0:00:01\r\u001b[K     |███████████████████████████████▋| 3.4 MB 5.3 MB/s eta 0:00:01\r\u001b[K     |███████████████████████████████▊| 3.4 MB 5.3 MB/s eta 0:00:01\r\u001b[K     |███████████████████████████████▊| 3.4 MB 5.3 MB/s eta 0:00:01\r\u001b[K     |███████████████████████████████▉| 3.4 MB 5.3 MB/s eta 0:00:01\r\u001b[K     |████████████████████████████████| 3.4 MB 5.3 MB/s eta 0:00:01\r\u001b[K     |████████████████████████████████| 3.4 MB 5.3 MB/s \n",
            "\u001b[?25h"
          ]
        }
      ]
    },
    {
      "cell_type": "code",
      "metadata": {
        "id": "In7jXIJMnykD"
      },
      "source": [
        "import os\n",
        "\n",
        "# Enable TF Eager execution\n",
        "import tensorflow as tf\n",
        "tf.logging.set_verbosity(tf.logging.ERROR)\n",
        "tfe = tf.contrib.eager\n",
        "tfe.enable_eager_execution() \n",
        "\n",
        "import numpy as np\n",
        "from tensor2tensor import problems\n",
        "from tensor2tensor import models\n",
        "from tensor2tensor import problems\n",
        "from tensor2tensor.utils import trainer_lib\n",
        "from tensor2tensor.data_generators import text_encoder\n",
        "\n",
        "from tensor2tensor.utils import t2t_model\n",
        "from tensor2tensor.utils import registry\n",
        "\n",
        "import textwrap"
      ],
      "execution_count": 5,
      "outputs": []
    },
    {
      "cell_type": "markdown",
      "metadata": {
        "id": "Rs8aEqWMAkyy"
      },
      "source": [
        "## Clone the repository and import the module"
      ]
    },
    {
      "cell_type": "code",
      "metadata": {
        "id": "aTiAyrKZ-nB-",
        "colab": {
          "base_uri": "https://localhost:8080/"
        },
        "outputId": "30813425-a115-43f2-e569-91373b8fbadc"
      },
      "source": [
        "!test -d nmt-en-tr || git clone https://github.com/gorkemozkaya/nmt-en-tr.git"
      ],
      "execution_count": 6,
      "outputs": [
        {
          "output_type": "stream",
          "name": "stdout",
          "text": [
            "Cloning into 'nmt-en-tr'...\n",
            "remote: Enumerating objects: 126, done.\u001b[K\n",
            "remote: Counting objects: 100% (3/3), done.\u001b[K\n",
            "remote: Compressing objects: 100% (3/3), done.\u001b[K\n",
            "remote: Total 126 (delta 0), reused 0 (delta 0), pack-reused 123\u001b[K\n",
            "Receiving objects: 100% (126/126), 26.05 KiB | 2.17 MiB/s, done.\n",
            "Resolving deltas: 100% (43/43), done.\n"
          ]
        }
      ]
    },
    {
      "cell_type": "code",
      "metadata": {
        "id": "HFx0mlKk_BCf"
      },
      "source": [
        "import sys\n",
        "sys.path.append(\"nmt-en-tr\")\n",
        "import nmt_en_tr"
      ],
      "execution_count": 7,
      "outputs": []
    },
    {
      "cell_type": "markdown",
      "metadata": {
        "id": "MXnvXaDuAW_q"
      },
      "source": [
        "## Downloading and loading the pretrained model"
      ]
    },
    {
      "cell_type": "code",
      "metadata": {
        "id": "sDaatfgtAipi"
      },
      "source": [
        "!wget -nc -q https://github.com/gorkemozkaya/nmt-en-tr/releases/download/pretrained_model/en2tr.zip\n",
        "!unzip -n -qq en2tr.zip"
      ],
      "execution_count": 8,
      "outputs": []
    },
    {
      "cell_type": "code",
      "metadata": {
        "id": "pXf687ynA4wz"
      },
      "source": [
        "model_path = 'en2tr'\n",
        "\n",
        "data_dir = os.path.join(model_path, 'data')\n",
        "ckpt_dir = os.path.join(model_path, 'model')\n",
        "\n",
        "en2tr_problem = problems.problem(\"translate_en_tr\")\n",
        "encoders = en2tr_problem.feature_encoders(data_dir)\n",
        "\n",
        "ckpt_path = tf.train.latest_checkpoint(ckpt_dir)\n",
        "\n"
      ],
      "execution_count": 9,
      "outputs": []
    },
    {
      "cell_type": "code",
      "metadata": {
        "id": "AelEQkz8nbFf"
      },
      "source": [
        "# Setup helper functions for encoding and decoding\n",
        "def encode(input_str, output_str=None):\n",
        "  \"\"\"Input str to features dict, ready for inference\"\"\"\n",
        "  inputs = encoders[\"inputs\"].encode(input_str) + [1]  # add EOS id \n",
        "  batch_inputs = tf.reshape(inputs, [1, -1, 1])  # Make it 3D.\n",
        "  return {\"inputs\": batch_inputs}\n",
        "\n",
        "def decode(integers):\n",
        "  \"\"\"List of ints to str\"\"\"\n",
        "  integers = list(np.squeeze(integers))\n",
        "  if 1 in integers:\n",
        "    integers = integers[:integers.index(1)]\n",
        "  return encoders[\"inputs\"].decode(np.squeeze(integers)) "
      ],
      "execution_count": 10,
      "outputs": []
    },
    {
      "cell_type": "code",
      "metadata": {
        "id": "AYe9HYCxoSrg"
      },
      "source": [
        "# Create hparams and the model\n",
        "model_name = \"transformer\"\n",
        "hparams_set = \"transformer_tpu\"\n",
        "\n",
        "# Other setup\n",
        "Modes = tf.estimator.ModeKeys\n",
        "\n",
        "hparams = trainer_lib.create_hparams(hparams_set, data_dir=data_dir, problem_name=\"translate_en_tr\")\n",
        "\n",
        "# NOTE: Only create the model once when restoring from a checkpoint; it's a\n",
        "# Layer and so subsequent instantiations will have different variable scopes\n",
        "# that will not match the checkpoint.\n",
        "translate_model = registry.model(model_name)(hparams, Modes.EVAL)"
      ],
      "execution_count": 11,
      "outputs": []
    },
    {
      "cell_type": "code",
      "metadata": {
        "id": "h07TC7gLoceR"
      },
      "source": [
        "# Restore and translate!\n",
        "def translate(inputs, beam_size = 5, alpha = 0.6, **kwargs):\n",
        "  encoded_inputs = encode(inputs)\n",
        "  with tfe.restore_variables_on_create(ckpt_path):\n",
        "    model_output = translate_model.infer(encoded_inputs, **kwargs)[\"outputs\"]\n",
        "  if len(model_output.shape) == 2:\n",
        "    return decode(model_output)\n",
        "  else:\n",
        "    return [decode(x) for x in model_output[0]]\n",
        "  \n",
        "def translate_and_display(input):\n",
        "  output = translate(input)\n",
        "  print('\\n  '.join(textwrap.wrap(\"Input: {}\".format(input), 80)))\n",
        "  print()\n",
        "  print('\\n  '.join(textwrap.wrap(\"Output: {}\".format(output), 80)))"
      ],
      "execution_count": 12,
      "outputs": []
    },
    {
      "cell_type": "markdown",
      "metadata": {
        "id": "FSfMzXUDRonD"
      },
      "source": [
        "## Translation Examples"
      ]
    },
    {
      "cell_type": "code",
      "metadata": {
        "id": "j6CcLZ7vRbFm",
        "colab": {
          "base_uri": "https://localhost:8080/"
        },
        "outputId": "2291623a-4276-49ff-d2e3-39a6b764bd5f"
      },
      "source": [
        "inputs = \"If Turkey provides a competitive, safe, and predictable business and \\\n",
        "investment environment, it can reach high growth rates and development levels, \\\n",
        "with its alternative tourism opportunities, agriculture, young, educated \\\n",
        "population, and entrepreneurial spirit.\"\n",
        "\n",
        "translate_and_display(inputs)"
      ],
      "execution_count": 13,
      "outputs": [
        {
          "output_type": "stream",
          "name": "stdout",
          "text": [
            "Input: If Turkey provides a competitive, safe, and predictable business and\n",
            "  investment environment, it can reach high growth rates and development levels,\n",
            "  with its alternative tourism opportunities, agriculture, young, educated\n",
            "  population, and entrepreneurial spirit.\n",
            "\n",
            "Output: Türkiye rekabetçi, güvenli ve öngörülebilir bir iş ve yatırım ortamı\n",
            "  sağladığı takdirde, alternatif turizm fırsatları, tarım, genç, eğitimli genç ve\n",
            "  girişimcilik ruhuyla yüksek büyüme oranları ve kalkınma seviyelerine ulaşabilir.\n"
          ]
        }
      ]
    },
    {
      "cell_type": "markdown",
      "metadata": {
        "id": "EhuledyxOCqU"
      },
      "source": [
        ""
      ]
    },
    {
      "cell_type": "code",
      "metadata": {
        "id": "RXkyVCcmOET9",
        "colab": {
          "base_uri": "https://localhost:8080/"
        },
        "outputId": "3d189f76-d2ac-4790-d2c9-270a3eef78f4"
      },
      "source": [
        "inputs = \"The businessman Arron Banks and the unofficial Brexit campaign Leave.EU have \\\n",
        "issued a legal threat against streaming giant Netflix in relation to The Great Hack, \\\n",
        "a new documentary about the Cambridge Analytica scandal and the abuse of personal data.\"\n",
        "\n",
        "translate_and_display(inputs)"
      ],
      "execution_count": 15,
      "outputs": [
        {
          "output_type": "stream",
          "name": "stdout",
          "text": [
            "Input: The businessman Arron Banks and the unofficial Brexit campaign Leave.EU\n",
            "  have issued a legal threat against streaming giant Netflix in relation to The\n",
            "  Great Hack, a new documentary about the Cambridge Analytica scandal and the\n",
            "  abuse of personal data.\n",
            "\n",
            "Output: İşadamı Arron Banks ve gayrı resmi Brexit kampanyası devam ediyor. AB,\n",
            "  Analytica skandalı ve kişisel verilerin kötüye kullanımıyla ilgili yeni bir\n",
            "  belgesel olan Büyük Hack ile ilgili olarak sokak devir Netflix'i kaldırmaya\n",
            "  yönelik yasal tehdit yayınladı.\n"
          ]
        }
      ]
    },
    {
      "cell_type": "code",
      "metadata": {
        "id": "iJ4hdjYxPXv6",
        "colab": {
          "base_uri": "https://localhost:8080/"
        },
        "outputId": "a6766d9b-e67a-4e29-b495-fc9a11ec7761"
      },
      "source": [
        "inputs = \"The threat comes as press freedom campaigners and charity groups warn \\\n",
        "the government in an open letter that UK courts are being used to “intimidate \\\n",
        "and silence” journalists working in the public interest.\"\n",
        "\n",
        "translate_and_display(inputs)"
      ],
      "execution_count": 16,
      "outputs": [
        {
          "output_type": "stream",
          "name": "stdout",
          "text": [
            "Input: The threat comes as press freedom campaigners and charity groups warn the\n",
            "  government in an open letter that UK courts are being used to “intimidate and\n",
            "  silence” journalists working in the public interest.\n",
            "\n",
            "Output: Söz konusu tehdit, basın özgürlüğü kampanyacıları ve yardım örgütlerinin\n",
            "  hükümeti, İngiliz mahkemelerinin, kamu yararına çalışan gazetecileri \"sindirmeye\n",
            "  ve susturmaya\" alıştığı açık bir mektupta uyarmaları üzerine geldi.\n"
          ]
        }
      ]
    },
    {
      "cell_type": "code",
      "metadata": {
        "id": "6y8ntUNeO7Ee",
        "colab": {
          "base_uri": "https://localhost:8080/"
        },
        "outputId": "2efe392e-bed2-4e3f-d78c-2ec0dc08a56c"
      },
      "source": [
        "inputs = \"Alexandria Ocasio-Cortez called for a “9/11-style commission” to \\\n",
        "investigate child separation on the border with Mexico on Saturday, and said \\\n",
        "the US government has a life-long responsibility to children it severed from \\\n",
        "their parents, to provide them with mental health support.\"\n",
        "\n",
        "\n",
        "translate_and_display(inputs)"
      ],
      "execution_count": 17,
      "outputs": [
        {
          "output_type": "stream",
          "name": "stdout",
          "text": [
            "Input: Alexandria Ocasio-Cortez called for a “9/11-style commission” to\n",
            "  investigate child separation on the border with Mexico on Saturday, and said the\n",
            "  US government has a life-long responsibility to children it severed from their\n",
            "  parents, to provide them with mental health support.\n",
            "\n",
            "Output: Alexandria Ocasio-Cortez Cumartesi günü Meksika sınırındaki çocuk\n",
            "  ayrımını araştırması için \"9/11 tarzı bir komisyon\" çağrısında bulundu ve ABD\n",
            "  hükümetinin ailelerinden gelen çocuklara olan sağlığına yönelik ömür boyu bir\n",
            "  sorumluluk taşıdığını söyledi.\n"
          ]
        }
      ]
    }
  ]
}
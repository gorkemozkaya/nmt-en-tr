{
  "nbformat": 4,
  "nbformat_minor": 0,
  "metadata": {
    "colab": {
      "name": "Turkish-English blended dataset generation for tensorflow_datasets",
      "provenance": [],
      "authorship_tag": "ABX9TyNw/w7Lka+mAvgU+u9wQQQZ",
      "include_colab_link": true
    },
    "kernelspec": {
      "name": "python3",
      "display_name": "Python 3"
    },
    "language_info": {
      "name": "python"
    }
  },
  "cells": [
    {
      "cell_type": "markdown",
      "metadata": {
        "id": "view-in-github",
        "colab_type": "text"
      },
      "source": [
        "<a href=\"https://colab.research.google.com/github/gorkemozkaya/nmt-en-tr/blob/master/data_prep/blended_dataset_prep.ipynb\" target=\"_parent\"><img src=\"https://colab.research.google.com/assets/colab-badge.svg\" alt=\"Open In Colab\"/></a>"
      ]
    },
    {
      "cell_type": "markdown",
      "source": [
        "## Turkish-English blended dataset generation for tensorflow_datasets\n",
        "We blend four different English-Turkish parallel corpora together and create train and dev dataset, later to be used with tensorflow_datasets python package."
      ],
      "metadata": {
        "id": "Aa-HT0Bgesv0"
      }
    },
    {
      "cell_type": "code",
      "execution_count": null,
      "metadata": {
        "id": "QYEZdCgYyxEJ"
      },
      "outputs": [],
      "source": [
        "!wget https://github.com/gorkemozkaya/nmt-en-tr/releases/download/bianet_ted_corpora/bianet_and_ted_corpora.zip\n",
        "!wget https://github.com/gorkemozkaya/nmt-en-tr/releases/download/raw_data/nmt_en_tr_raw_data.zip\n",
        "!unzip -n -qq bianet_and_ted_corpora.zip \n",
        "!unzip -n -qq nmt_en_tr_raw_data.zip"
      ]
    },
    {
      "cell_type": "code",
      "source": [
        "import numpy as np\n",
        "from itertools import chain\n",
        "\n",
        "def generate_lines(en_file_name, tr_file_name, frac_include, frac_dev):\n",
        "  with open(en_file_name) as en_file,\\\n",
        "    open(tr_file_name) as tr_file:\n",
        "    for en_line in en_file:\n",
        "      tr_line = next(tr_file)\n",
        "      rn = np.random.uniform()\n",
        "      if rn > frac_include:\n",
        "        continue\n",
        "      rn = np.random.uniform()\n",
        "      if rn  > frac_dev:\n",
        "        yield (en_line, tr_line, \"train\")\n",
        "      else:\n",
        "        yield (en_line, tr_line, \"dev\")"
      ],
      "metadata": {
        "id": "ExiYy7gc2nNa"
      },
      "execution_count": null,
      "outputs": []
    },
    {
      "cell_type": "code",
      "source": [
        "lang_list = [['SETIMES2.en-tr.en', 'SETIMES2.en-tr.tr', 1.0, 0.03],\n",
        "             ['OpenSubtitles.en-tr.en', 'OpenSubtitles.en-tr.tr', 0.1, 0.03 ],\n",
        "             ['bianet_and_ted_corpora.txt/TED2013.en-tr.en', 'bianet_and_ted_corpora.txt/TED2013.en-tr.tr', 1.0, 0.03],\n",
        "             ['bianet_and_ted_corpora.txt/bianet-entr-en.txt', 'bianet_and_ted_corpora.txt/bianet-entr-tr.txt', 1.0, 0.03]]"
      ],
      "metadata": {
        "id": "ZQcWUnvbqx8g"
      },
      "execution_count": null,
      "outputs": []
    },
    {
      "cell_type": "code",
      "source": [
        "combined_generator = chain(*[generate_lines(*args) for args in lang_list])"
      ],
      "metadata": {
        "id": "iwJpDlpitTvx"
      },
      "execution_count": null,
      "outputs": []
    },
    {
      "cell_type": "code",
      "source": [
        "with open(\"train.en\", \"w\") as train_en, \\\n",
        "  open(\"train.tr\", \"w\") as train_tr, \\\n",
        "  open(\"dev.en\", \"w\") as dev_en, \\\n",
        "  open(\"dev.tr\", \"w\") as dev_tr: \n",
        "  \"\"\"\n",
        "  \"\"\"\n",
        "  for line_en, line_tr, group in combined_generator:\n",
        "    if group == 'dev':\n",
        "      dev_en.write(line_en)\n",
        "      dev_tr.write(line_tr)\n",
        "    if group == 'train':\n",
        "      train_en.write(line_en)\n",
        "      train_tr.write(line_tr)"
      ],
      "metadata": {
        "id": "o3zRXb2M0Pmy"
      },
      "execution_count": null,
      "outputs": []
    }
  ]
}
